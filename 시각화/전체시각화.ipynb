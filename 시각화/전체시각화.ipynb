# 라이브러리 불러오기
import pandas as pd
import matplotlib.pyplot as plt
import seaborn as sns
import koreanize_matplotlib



# 데이터 읽어오기
file_path = '/content/drive/MyDrive/Colab Notebooks/BDP/서울교통공사_통합.csv'
data = pd.read_csv(file_path)

# 'difference_per'가 200을 넘는 데이터 필터링
filtered_data = data[data['difference_per'] > 200]

# 'station'과 'date'를 합쳐서 새로운 열 생성
filtered_data['station_date'] = filtered_data['station'] + ' ' + filtered_data['date'] + ' ' + filtered_data['week']

# 상위 20개 데이터 선택
top_20_data = filtered_data.sort_values(by='difference_per', ascending=False).head(20)

# 시각화
plt.figure(figsize=(20, 6))
ax = sns.barplot(x='station_date', y='difference_per', data=top_20_data)
plt.title('지하철 역별 날짜별 유동인구 상대적 백분율 (difference_per > 200) - Top 20')
plt.xlabel('역 + 날짜')
plt.ylabel('상대적 백분율')
plt.xticks(rotation=45, ha='right')

# foot_traffic 및 week_avg 값을 막대 그래프 위에 표시
for i, p in enumerate(ax.patches):
    ax.annotate(f'{top_20_data.iloc[i]["foot_traffic"]}\n{top_20_data.iloc[i]["week_avg"]}',
                (p.get_x() + p.get_width() / 2., p.get_height()),
                ha='center', va='center', xytext=(0, 10), textcoords='offset points')

plt.show()
