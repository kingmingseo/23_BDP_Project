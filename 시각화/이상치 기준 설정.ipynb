import pandas as pd
import matplotlib.pyplot as plt
import seaborn as sns
import matplotlib.pyplot as plt
import matplotlib.font_manager as fm
import koreanize_matplotlib


# 파일 읽기
df = pd.read_csv('/content/drive/MyDrive/Colab Notebooks/BDP/서울교통공사_통합.csv')



# 4. 상대적 백분율 분포 (히스토그램)
plt.figure(figsize=(8, 6))
sns.histplot(df['difference_per'], bins=20, kde=True)
plt.title('상대적 백분율 분포')
plt.xlabel('상대적 백분율')
plt.ylabel('빈도')

# 원하는 y축 범위로 설정 (예: 최소값 0, 최대값 1000)
plt.ylim(0, 50000)

plt.show()

plt.figure(figsize=(8, 6))
sns.histplot(df['difference_per'], bins=20, kde=True)
plt.title('상대적 백분율 분포')
plt.xlabel('상대적 백분율')
plt.ylabel('빈도')

# 원하는 y축 범위로 설정 (예: 최소값 0, 최대값 1000)
plt.ylim(0, 100)

plt.show()

